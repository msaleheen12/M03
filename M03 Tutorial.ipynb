{
 "cells": [
  {
   "cell_type": "code",
   "execution_count": 2,
   "id": "2acc8426-7d25-400e-837b-c57bce0b7c53",
   "metadata": {},
   "outputs": [],
   "source": [
    "#sort an array\n",
    "class Solution:\n",
    "    def sort012(self,arr,n):\n",
    "        low=0\n",
    "        high=n-1\n",
    "        mid=0\n",
    "        \n",
    "        while mid<=high:\n",
    "            if arr[mid]==0:\n",
    "                arr[mid] , arr[low] = arr[low] , arr[mid]\n",
    "                mid+=1\n",
    "                low+=1\n",
    "            elif arr[mid]==1:\n",
    "                mid+=1\n",
    "            else:\n",
    "                arr[mid] , arr[high] = arr[high] , arr[mid]\n",
    "                high-=1\n",
    "\n"
   ]
  },
  {
   "cell_type": "code",
   "execution_count": 3,
   "id": "ffa9c06a-98d9-4745-9035-deec02676538",
   "metadata": {},
   "outputs": [],
   "source": [
    "#Binary search\n",
    "class Solution:\t\n",
    "\tdef bin_search(self, arr, left, right, key):\n",
    "\t\t\n",
    "\t\tif left > right:\n",
    "\t\t\treturn -1\n",
    "\n",
    "\t\tmid = (left + right) // 2\n",
    "\t\tif arr[mid] == key:\n",
    "\t\t\treturn mid\n",
    "\n",
    "\t\telif arr[mid] > key:\n",
    "\t\t\treturn self.bin_search (arr, left, mid - 1, key)\n",
    "\n",
    "\t\telse:\n",
    "\t\t\treturn self.bin_search (arr, mid + 1, right, key)\n",
    "\t\n",
    "\tdef binarysearch(self, arr, n, k):\n",
    "\t\treturn self.bin_search(arr, 0, n-1, k)\n"
   ]
  }
 ],
 "metadata": {
  "kernelspec": {
   "display_name": "Python 3 (ipykernel)",
   "language": "python",
   "name": "python3"
  },
  "language_info": {
   "codemirror_mode": {
    "name": "ipython",
    "version": 3
   },
   "file_extension": ".py",
   "mimetype": "text/x-python",
   "name": "python",
   "nbconvert_exporter": "python",
   "pygments_lexer": "ipython3",
   "version": "3.11.7"
  }
 },
 "nbformat": 4,
 "nbformat_minor": 5
}
