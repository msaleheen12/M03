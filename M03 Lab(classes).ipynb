{
 "cells": [
  {
   "cell_type": "code",
   "execution_count": null,
   "id": "71c56247-70a4-4651-8183-adfdab69f3e5",
   "metadata": {},
   "outputs": [],
   "source": [
    "#Maahad Sajia Saleheen\n",
    "#M03 Lab\n",
    "#The app is made to manage vehicle information, focusing specifically on automobiles.\n",
    "\n",
    "class Vehicle:\n",
    "    def __init__(self, vehicle_type):\n",
    "        self.vehicle_type = vehicle_type\n",
    "\n",
    "class Automobile(Vehicle):\n",
    "    def __init__(self, vehicle_type, year, make, model, doors, roof):\n",
    "        super().__init__(vehicle_type)\n",
    "        self.year = year\n",
    "        self.make = make\n",
    "        self.model = model\n",
    "        self.doors = doors\n",
    "        self.roof = roof\n",
    "\n",
    "def get_automobile_info():\n",
    "    vehicle_type = \"car\"\n",
    "    year = input(\"Enter the year of the car: \")\n",
    "    make = input(\"Enter the make of the car: \")\n",
    "    model = input(\"Enter the model of the car: \")\n",
    "    doors = input(\"Enter the number of doors (2 or 4): \")\n",
    "    roof = input(\"Enter the type of roof (solid or sun roof): \")\n",
    "    \n",
    "    automobile = Automobile(vehicle_type, year, make, model, doors, roof)\n",
    "    \n",
    "    return automobile\n",
    "\n",
    "def display_car_info(autombile):\n",
    "    print(f\"Vehicle type: {autombile.vehicle_type}\")\n",
    "    print(f\"Year: {autombile.year}\")\n",
    "    print(f\"Make: {autombile.make}\")\n",
    "    print(f\"Model: {autombile.model}\")\n",
    "    print(f\"Number of doors: {autombile.doors}\")\n",
    "    print(f\"Type of roof: {autombile.roof}\")\n",
    "\n",
    "\n",
    "car = get_automobile_info()\n",
    "display_car_info(car)"
   ]
  }
 ],
 "metadata": {
  "kernelspec": {
   "display_name": "Python 3 (ipykernel)",
   "language": "python",
   "name": "python3"
  },
  "language_info": {
   "codemirror_mode": {
    "name": "ipython",
    "version": 3
   },
   "file_extension": ".py",
   "mimetype": "text/x-python",
   "name": "python",
   "nbconvert_exporter": "python",
   "pygments_lexer": "ipython3",
   "version": "3.11.7"
  }
 },
 "nbformat": 4,
 "nbformat_minor": 5
}
